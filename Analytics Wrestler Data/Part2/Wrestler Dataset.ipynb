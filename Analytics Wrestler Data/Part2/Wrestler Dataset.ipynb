{
 "cells": [
  {
   "cell_type": "markdown",
   "id": "23b6faa0-a616-431b-9296-28d8d8b2e897",
   "metadata": {},
   "source": [
    "# Wrestler Dataset 2"
   ]
  },
  {
   "cell_type": "code",
   "execution_count": 75,
   "id": "e509aa6f-e4d0-4990-9857-628f42e46319",
   "metadata": {},
   "outputs": [
    {
     "name": "stdout",
     "output_type": "stream",
     "text": [
      "Initial DataFrame:\n",
      "               Name  Wins  Losses  Height (inches)  Weight (lbs)\n",
      "0         John Cena    25      10               75           251\n",
      "1          The Rock    30       5               76           275\n",
      "2        Stone Cold    20      15               74           252\n",
      "3          Triple H    15      20               76           255\n",
      "4        Undertaker    10      25               80           299\n",
      "5    Shawn Michaels    12      18               71           225\n",
      "6      Brock Lesnar    18      10               76           286\n",
      "7        Kurt Angle    22       8               72           220\n",
      "8       Randy Orton    20      12               75           245\n",
      "9              Edge    16      14               74           241\n",
      "10        AJ Styles    14       9               70           218\n",
      "11     Daniel Bryan    19      11               69           210\n",
      "12     Seth Rollins    21      13               72           217\n",
      "13     Roman Reigns    23       7               75           265\n",
      "14      Becky Lynch    27       6               68           132\n",
      "15       Finn Balor    24       9               70           190\n",
      "16      Kevin Owens    16      12               72           265\n",
      "17        Sami Zayn    15      14               71           210\n",
      "18  Charlotte Flair    18      10               67           145\n",
      "19      Sasha Banks    22       8               68           134\n",
      "20           Bayley    20      11               74           260\n",
      "21    Drew McIntyre    17      13               76           240\n",
      "22          Sheamus    19      15               72           280\n",
      "23       Jeff Hardy    21      14               73           230\n",
      "24       Matt Hardy    22       9               75           215\n"
     ]
    }
   ],
   "source": [
    "import pandas as pd\n",
    "# Sample data for WWE wrestlers\n",
    "data = {\n",
    "    'Name': [\n",
    "        'John Cena', 'The Rock', 'Stone Cold', 'Triple H', 'Undertaker',\n",
    "        'Shawn Michaels', 'Brock Lesnar', 'Kurt Angle', 'Randy Orton', 'Edge',\n",
    "        'AJ Styles', 'Daniel Bryan', 'Seth Rollins', 'Roman Reigns', 'Becky Lynch',\n",
    "        'Finn Balor', 'Kevin Owens', 'Sami Zayn', 'Charlotte Flair', 'Sasha Banks',\n",
    "        'Bayley', 'Drew McIntyre', 'Sheamus', 'Jeff Hardy', 'Matt Hardy'\n",
    "    ],\n",
    "    'Wins': [\n",
    "        25, 30, 20, 15, 10, 12, 18, 22, 20, 16,\n",
    "        14, 19, 21, 23, 27, 24, 16, 15, 18, 22,\n",
    "        20, 17, 19, 21, 22\n",
    "    ],\n",
    "    'Losses': [\n",
    "        10, 5, 15, 20, 25, 18, 10, 8, 12, 14,\n",
    "        9, 11, 13, 7, 6, 9, 12, 14, 10, 8,\n",
    "        11, 13, 15, 14, 9\n",
    "    ],\n",
    "    'Height (inches)': [\n",
    "        75, 76, 74, 76, 80, 71, 76, 72, 75, 74,\n",
    "        70, 69, 72, 75, 68, 70, 72, 71, 67, 68,\n",
    "        74, 76, 72, 73, 75\n",
    "    ],\n",
    "    'Weight (lbs)': [\n",
    "        251, 275, 252, 255, 299, 225, 286, 220, 245, 241,\n",
    "        218, 210, 217, 265, 132, 190, 265, 210, 145, 134,\n",
    "        260, 240, 280, 230, 215\n",
    "    ]\n",
    "}\n",
    "# Create DataFrame\n",
    "wrestlers_df = pd.DataFrame(data)\n",
    "print(\"Initial DataFrame:\")\n",
    "print(wrestlers_df)"
   ]
  },
  {
   "cell_type": "code",
   "execution_count": 76,
   "id": "a7127beb-0e6a-428a-954d-960f629063d0",
   "metadata": {},
   "outputs": [
    {
     "name": "stdout",
     "output_type": "stream",
     "text": [
      "\n",
      "Updated DataFrame with Nulls and Outliers:\n",
      "         Name  Wins  Losses  Height (inches)  Weight (lbs)\n",
      "0   John Cena  25.0    10.0             75.0           251\n",
      "1    The Rock  30.0     5.0             76.0           275\n",
      "2  Stone Cold  20.0    15.0             74.0           252\n",
      "3    Triple H  15.0    20.0             76.0           255\n",
      "4  Undertaker  10.0    25.0             80.0           299\n"
     ]
    }
   ],
   "source": [
    "# Introduce null values\n",
    "wrestlers_df.loc[5, 'Wins'] = None  # Set 'Wins' for Shawn Michaels to None\n",
    "wrestlers_df.loc[10, 'Losses'] = None  # Set 'Losses' for AJ Styles to None\n",
    "wrestlers_df.loc[15, 'Height (inches)'] = None  # Set 'Height' for Finn Balor to None\n",
    "\n",
    "# Introduce outliers\n",
    "wrestlers_df.loc[14, 'Wins'] = 100  # Outlier for Becky Lynch\n",
    "wrestlers_df.loc[7, 'Weight (lbs)'] = 600  # Outlier for Kurt Angle\n",
    "\n",
    "print(\"\\nUpdated DataFrame with Nulls and Outliers:\")\n",
    "print(wrestlers_df.head())"
   ]
  },
  {
   "cell_type": "markdown",
   "id": "e4e5458f-953b-4784-adbc-141b99b634e2",
   "metadata": {},
   "source": [
    "### Getting the feel for the data"
   ]
  },
  {
   "cell_type": "code",
   "execution_count": 77,
   "id": "d24cbc4a-2419-4e98-b7c2-af45524dd1f8",
   "metadata": {},
   "outputs": [
    {
     "data": {
      "text/html": [
       "<div>\n",
       "<style scoped>\n",
       "    .dataframe tbody tr th:only-of-type {\n",
       "        vertical-align: middle;\n",
       "    }\n",
       "\n",
       "    .dataframe tbody tr th {\n",
       "        vertical-align: top;\n",
       "    }\n",
       "\n",
       "    .dataframe thead th {\n",
       "        text-align: right;\n",
       "    }\n",
       "</style>\n",
       "<table border=\"1\" class=\"dataframe\">\n",
       "  <thead>\n",
       "    <tr style=\"text-align: right;\">\n",
       "      <th></th>\n",
       "      <th>Name</th>\n",
       "      <th>Wins</th>\n",
       "      <th>Losses</th>\n",
       "      <th>Height (inches)</th>\n",
       "      <th>Weight (lbs)</th>\n",
       "    </tr>\n",
       "  </thead>\n",
       "  <tbody>\n",
       "    <tr>\n",
       "      <th>0</th>\n",
       "      <td>John Cena</td>\n",
       "      <td>25.0</td>\n",
       "      <td>10.0</td>\n",
       "      <td>75.0</td>\n",
       "      <td>251</td>\n",
       "    </tr>\n",
       "    <tr>\n",
       "      <th>1</th>\n",
       "      <td>The Rock</td>\n",
       "      <td>30.0</td>\n",
       "      <td>5.0</td>\n",
       "      <td>76.0</td>\n",
       "      <td>275</td>\n",
       "    </tr>\n",
       "    <tr>\n",
       "      <th>2</th>\n",
       "      <td>Stone Cold</td>\n",
       "      <td>20.0</td>\n",
       "      <td>15.0</td>\n",
       "      <td>74.0</td>\n",
       "      <td>252</td>\n",
       "    </tr>\n",
       "    <tr>\n",
       "      <th>3</th>\n",
       "      <td>Triple H</td>\n",
       "      <td>15.0</td>\n",
       "      <td>20.0</td>\n",
       "      <td>76.0</td>\n",
       "      <td>255</td>\n",
       "    </tr>\n",
       "    <tr>\n",
       "      <th>4</th>\n",
       "      <td>Undertaker</td>\n",
       "      <td>10.0</td>\n",
       "      <td>25.0</td>\n",
       "      <td>80.0</td>\n",
       "      <td>299</td>\n",
       "    </tr>\n",
       "  </tbody>\n",
       "</table>\n",
       "</div>"
      ],
      "text/plain": [
       "         Name  Wins  Losses  Height (inches)  Weight (lbs)\n",
       "0   John Cena  25.0    10.0             75.0           251\n",
       "1    The Rock  30.0     5.0             76.0           275\n",
       "2  Stone Cold  20.0    15.0             74.0           252\n",
       "3    Triple H  15.0    20.0             76.0           255\n",
       "4  Undertaker  10.0    25.0             80.0           299"
      ]
     },
     "execution_count": 77,
     "metadata": {},
     "output_type": "execute_result"
    }
   ],
   "source": [
    "wrestlers_df.head()"
   ]
  },
  {
   "cell_type": "markdown",
   "id": "b4699589-80e9-4c61-b9e1-51f8314b9f69",
   "metadata": {},
   "source": [
    "Let us remeber the units and update the column names"
   ]
  },
  {
   "cell_type": "code",
   "execution_count": 78,
   "id": "5bcd3f6a-6f09-49c2-9993-2fd4f9db121c",
   "metadata": {},
   "outputs": [],
   "source": [
    "wrestlers_df=wrestlers_df.rename(columns={'Height (inches)':'Height','Weight (lbs)':'Weight'})"
   ]
  },
  {
   "cell_type": "code",
   "execution_count": 79,
   "id": "2a96dd77-b722-4d8b-97b5-e1346a5a0718",
   "metadata": {},
   "outputs": [
    {
     "data": {
      "text/html": [
       "<div>\n",
       "<style scoped>\n",
       "    .dataframe tbody tr th:only-of-type {\n",
       "        vertical-align: middle;\n",
       "    }\n",
       "\n",
       "    .dataframe tbody tr th {\n",
       "        vertical-align: top;\n",
       "    }\n",
       "\n",
       "    .dataframe thead th {\n",
       "        text-align: right;\n",
       "    }\n",
       "</style>\n",
       "<table border=\"1\" class=\"dataframe\">\n",
       "  <thead>\n",
       "    <tr style=\"text-align: right;\">\n",
       "      <th></th>\n",
       "      <th>Wins</th>\n",
       "      <th>Losses</th>\n",
       "      <th>Height</th>\n",
       "      <th>Weight</th>\n",
       "    </tr>\n",
       "  </thead>\n",
       "  <tbody>\n",
       "    <tr>\n",
       "      <th>count</th>\n",
       "      <td>24.000000</td>\n",
       "      <td>24.000000</td>\n",
       "      <td>24.000000</td>\n",
       "      <td>25.000000</td>\n",
       "    </tr>\n",
       "    <tr>\n",
       "      <th>mean</th>\n",
       "      <td>22.791667</td>\n",
       "      <td>12.041667</td>\n",
       "      <td>72.958333</td>\n",
       "      <td>245.600000</td>\n",
       "    </tr>\n",
       "    <tr>\n",
       "      <th>std</th>\n",
       "      <td>16.957695</td>\n",
       "      <td>4.544267</td>\n",
       "      <td>3.141298</td>\n",
       "      <td>86.021315</td>\n",
       "    </tr>\n",
       "    <tr>\n",
       "      <th>min</th>\n",
       "      <td>10.000000</td>\n",
       "      <td>5.000000</td>\n",
       "      <td>67.000000</td>\n",
       "      <td>132.000000</td>\n",
       "    </tr>\n",
       "    <tr>\n",
       "      <th>25%</th>\n",
       "      <td>16.750000</td>\n",
       "      <td>9.000000</td>\n",
       "      <td>71.000000</td>\n",
       "      <td>215.000000</td>\n",
       "    </tr>\n",
       "    <tr>\n",
       "      <th>50%</th>\n",
       "      <td>20.000000</td>\n",
       "      <td>11.500000</td>\n",
       "      <td>73.500000</td>\n",
       "      <td>241.000000</td>\n",
       "    </tr>\n",
       "    <tr>\n",
       "      <th>75%</th>\n",
       "      <td>22.000000</td>\n",
       "      <td>14.000000</td>\n",
       "      <td>75.000000</td>\n",
       "      <td>265.000000</td>\n",
       "    </tr>\n",
       "    <tr>\n",
       "      <th>max</th>\n",
       "      <td>100.000000</td>\n",
       "      <td>25.000000</td>\n",
       "      <td>80.000000</td>\n",
       "      <td>600.000000</td>\n",
       "    </tr>\n",
       "  </tbody>\n",
       "</table>\n",
       "</div>"
      ],
      "text/plain": [
       "             Wins     Losses     Height      Weight\n",
       "count   24.000000  24.000000  24.000000   25.000000\n",
       "mean    22.791667  12.041667  72.958333  245.600000\n",
       "std     16.957695   4.544267   3.141298   86.021315\n",
       "min     10.000000   5.000000  67.000000  132.000000\n",
       "25%     16.750000   9.000000  71.000000  215.000000\n",
       "50%     20.000000  11.500000  73.500000  241.000000\n",
       "75%     22.000000  14.000000  75.000000  265.000000\n",
       "max    100.000000  25.000000  80.000000  600.000000"
      ]
     },
     "execution_count": 79,
     "metadata": {},
     "output_type": "execute_result"
    }
   ],
   "source": [
    "wrestlers_df.describe()"
   ]
  },
  {
   "cell_type": "markdown",
   "id": "88f5ccb5-e1d6-4066-b058-28afe11ed688",
   "metadata": {},
   "source": [
    "## Looking for Nulls"
   ]
  },
  {
   "cell_type": "code",
   "execution_count": 80,
   "id": "90481e11-a1ac-4889-bc2a-00201950db09",
   "metadata": {},
   "outputs": [
    {
     "data": {
      "text/plain": [
       "Name      0\n",
       "Wins      1\n",
       "Losses    1\n",
       "Height    1\n",
       "Weight    0\n",
       "dtype: int64"
      ]
     },
     "execution_count": 80,
     "metadata": {},
     "output_type": "execute_result"
    }
   ],
   "source": [
    "wrestlers_df.isna().sum()"
   ]
  },
  {
   "cell_type": "code",
   "execution_count": 81,
   "id": "264ab561-0a06-4ac2-81c4-5960aabefb44",
   "metadata": {},
   "outputs": [],
   "source": [
    "from matplotlib import pyplot as plt\n",
    "import seaborn as sns"
   ]
  },
  {
   "cell_type": "code",
   "execution_count": 82,
   "id": "555bbc05-cb4b-4824-8d7f-080d8b2544dc",
   "metadata": {},
   "outputs": [
    {
     "data": {
      "text/plain": [
       "<Axes: >"
      ]
     },
     "execution_count": 82,
     "metadata": {},
     "output_type": "execute_result"
    },
    {
     "data": {
      "image/png": "[encoded data removed]",
      "text/plain": [
       "<Figure size 640x480 with 2 Axes>"
      ]
     },
     "metadata": {},
     "output_type": "display_data"
    }
   ],
   "source": [
    "sns.heatmap(wrestlers_df.isna())"
   ]
  },
  {
   "cell_type": "markdown",
   "id": "17a17f21-cc7d-4280-9c3f-d8d599ff2e00",
   "metadata": {},
   "source": [
    "## Looking for Outliers"
   ]
  },
  {
   "cell_type": "code",
   "execution_count": 83,
   "id": "a9319bf7-9edc-4e46-b503-e6ca74ef42db",
   "metadata": {},
   "outputs": [
    {
     "data": {
      "text/plain": [
       "Index(['Name', 'Wins', 'Losses', 'Height', 'Weight'], dtype='object')"
      ]
     },
     "execution_count": 83,
     "metadata": {},
     "output_type": "execute_result"
    }
   ],
   "source": [
    "wrestlers_df.columns"
   ]
  },
  {
   "cell_type": "code",
   "execution_count": 84,
   "id": "c18694ac-1066-4e10-a105-f9476d37a618",
   "metadata": {},
   "outputs": [
    {
     "data": {
      "text/plain": [
       "Name       object\n",
       "Wins      float64\n",
       "Losses    float64\n",
       "Height    float64\n",
       "Weight      int64\n",
       "dtype: object"
      ]
     },
     "execution_count": 84,
     "metadata": {},
     "output_type": "execute_result"
    }
   ],
   "source": [
    "wrestlers_df.dtypes"
   ]
  },
  {
   "cell_type": "markdown",
   "id": "f213ab13-7bb8-45f0-b644-78d4a7de3f25",
   "metadata": {},
   "source": [
    "Using boxplot to look for outliers"
   ]
  },
  {
   "cell_type": "code",
   "execution_count": 85,
   "id": "c67f3fd6-47fe-4f17-81de-7e29b48e7c7e",
   "metadata": {},
   "outputs": [
    {
     "data": {
      "image/png": "[encoded data removed]",
      "text/plain": [
       "<Figure size 1000x1000 with 4 Axes>"
      ]
     },
     "metadata": {},
     "output_type": "display_data"
    }
   ],
   "source": [
    "numerics = ['Wins', 'Losses', 'Height', 'Weight']\n",
    "plt.figure(figsize=(10, 10))\n",
    "\n",
    "for i, feature in enumerate(numerics):\n",
    "    plt.subplot(2, 2, i + 1)\n",
    "    plt.title(feature)\n",
    "    plt.ylabel(\"Value\")\n",
    "    sns.boxplot(wrestlers_df[feature].dropna())\n",
    "\n",
    "plt.tight_layout()  \n",
    "plt.show()"
   ]
  },
  {
   "cell_type": "markdown",
   "id": "4467f0ca-157e-4b3a-b759-82c72fc65959",
   "metadata": {},
   "source": [
    "It seems height is the only feature with no outliers.\n",
    "But then again there seem to be extremely distant outlier and some with a decent acceptable value"
   ]
  },
  {
   "cell_type": "code",
   "execution_count": 87,
   "id": "61e9ac98-4fc6-495b-8f12-59cbe671e6eb",
   "metadata": {},
   "outputs": [
    {
     "data": {
      "text/plain": [
       "<seaborn.axisgrid.PairGrid at 0x2ba7c1768a0>"
      ]
     },
     "execution_count": 87,
     "metadata": {},
     "output_type": "execute_result"
    },
    {
     "data": {
      "image/png": "[encoded data removed]",
      "text/plain": [
       "<Figure size 1000x1000 with 20 Axes>"
      ]
     },
     "metadata": {},
     "output_type": "display_data"
    }
   ],
   "source": [
    "sns.pairplot(data=wrestlers_df)"
   ]
  },
  {
   "cell_type": "markdown",
   "id": "bd197121-ab38-4021-b772-80e27ef9c3b4",
   "metadata": {},
   "source": [
    "The Histograms for weight and wins clearly shows the outlier values.\n",
    "However, these may be a possibile values in WWE.\n",
    "\n",
    "On cross checking, modern heavy weight wrestler can peak with a weight of 550lbs confirming that 600 lbs can be an outlier.\n",
    "\n",
    "Let us take a proper look at the wins histogram"
   ]
  },
  {
   "cell_type": "code",
   "execution_count": 15,
   "id": "90cfc7f7-03a9-4c30-a2ce-dbe4de3fb792",
   "metadata": {},
   "outputs": [
    {
     "data": {
      "text/plain": [
       "<Axes: xlabel='Wins', ylabel='Count'>"
      ]
     },
     "execution_count": 15,
     "metadata": {},
     "output_type": "execute_result"
    },
    {
     "data": {
      "image/png": "[encoded data removed]",
      "text/plain": [
       "<Figure size 640x480 with 1 Axes>"
      ]
     },
     "metadata": {},
     "output_type": "display_data"
    }
   ],
   "source": [
    "sns.histplot(wrestlers_df['Wins'],kde=1,color='red')"
   ]
  },
  {
   "cell_type": "code",
   "execution_count": 16,
   "id": "9e909734-bc70-4eda-84e9-917a08ed8196",
   "metadata": {},
   "outputs": [
    {
     "data": {
      "text/plain": [
       "(array([ 4., 12.,  6.,  1.,  0.,  0.,  0.,  0.,  0.,  0.,  0.,  0.,  0.,\n",
       "         0.,  1.]),\n",
       " array([ 10.,  16.,  22.,  28.,  34.,  40.,  46.,  52.,  58.,  64.,  70.,\n",
       "         76.,  82.,  88.,  94., 100.]),\n",
       " <BarContainer object of 15 artists>)"
      ]
     },
     "execution_count": 16,
     "metadata": {},
     "output_type": "execute_result"
    },
    {
     "data": {
      "image/png": "[encoded data removed]",
      "text/plain": [
       "<Figure size 640x480 with 1 Axes>"
      ]
     },
     "metadata": {},
     "output_type": "display_data"
    }
   ],
   "source": [
    "plt.hist(wrestlers_df['Wins'],bins=15,color='green')"
   ]
  },
  {
   "cell_type": "markdown",
   "id": "d8fae894-5427-4800-bf27-48dd2935220e",
   "metadata": {},
   "source": [
    "## Data Wrangling"
   ]
  },
  {
   "cell_type": "code",
   "execution_count": 90,
   "id": "11c648f1-24fd-4995-91fe-90306c744a51",
   "metadata": {},
   "outputs": [],
   "source": [
    "wrestlers_df['Wins'].quantile([0,0.25,0.5,0.8])\n",
    "min_win_threshold=wrestlers_df['Wins'].quantile(0)\n",
    "max_win_threshold=wrestlers_df['Wins'].quantile(0.8)"
   ]
  },
  {
   "cell_type": "code",
   "execution_count": 91,
   "id": "31e1c46c-a65f-4d97-b4dc-a2017a8c8cc3",
   "metadata": {},
   "outputs": [
    {
     "data": {
      "text/html": [
       "<div>\n",
       "<style scoped>\n",
       "    .dataframe tbody tr th:only-of-type {\n",
       "        vertical-align: middle;\n",
       "    }\n",
       "\n",
       "    .dataframe tbody tr th {\n",
       "        vertical-align: top;\n",
       "    }\n",
       "\n",
       "    .dataframe thead th {\n",
       "        text-align: right;\n",
       "    }\n",
       "</style>\n",
       "<table border=\"1\" class=\"dataframe\">\n",
       "  <thead>\n",
       "    <tr style=\"text-align: right;\">\n",
       "      <th></th>\n",
       "      <th>count</th>\n",
       "      <th>mean</th>\n",
       "      <th>std</th>\n",
       "      <th>min</th>\n",
       "      <th>25%</th>\n",
       "      <th>50%</th>\n",
       "      <th>75%</th>\n",
       "      <th>max</th>\n",
       "    </tr>\n",
       "  </thead>\n",
       "  <tbody>\n",
       "    <tr>\n",
       "      <th>Wins</th>\n",
       "      <td>19.0</td>\n",
       "      <td>18.157895</td>\n",
       "      <td>3.219095</td>\n",
       "      <td>10.0</td>\n",
       "      <td>16.00</td>\n",
       "      <td>19.0</td>\n",
       "      <td>20.5</td>\n",
       "      <td>22.0</td>\n",
       "    </tr>\n",
       "    <tr>\n",
       "      <th>Losses</th>\n",
       "      <td>18.0</td>\n",
       "      <td>13.000000</td>\n",
       "      <td>4.186814</td>\n",
       "      <td>8.0</td>\n",
       "      <td>10.25</td>\n",
       "      <td>12.5</td>\n",
       "      <td>14.0</td>\n",
       "      <td>25.0</td>\n",
       "    </tr>\n",
       "    <tr>\n",
       "      <th>Height</th>\n",
       "      <td>19.0</td>\n",
       "      <td>72.947368</td>\n",
       "      <td>3.170589</td>\n",
       "      <td>67.0</td>\n",
       "      <td>71.50</td>\n",
       "      <td>73.0</td>\n",
       "      <td>75.0</td>\n",
       "      <td>80.0</td>\n",
       "    </tr>\n",
       "    <tr>\n",
       "      <th>Weight</th>\n",
       "      <td>19.0</td>\n",
       "      <td>252.736842</td>\n",
       "      <td>93.966213</td>\n",
       "      <td>134.0</td>\n",
       "      <td>216.00</td>\n",
       "      <td>241.0</td>\n",
       "      <td>262.5</td>\n",
       "      <td>600.0</td>\n",
       "    </tr>\n",
       "  </tbody>\n",
       "</table>\n",
       "</div>"
      ],
      "text/plain": [
       "        count        mean        std    min     25%    50%    75%    max\n",
       "Wins     19.0   18.157895   3.219095   10.0   16.00   19.0   20.5   22.0\n",
       "Losses   18.0   13.000000   4.186814    8.0   10.25   12.5   14.0   25.0\n",
       "Height   19.0   72.947368   3.170589   67.0   71.50   73.0   75.0   80.0\n",
       "Weight   19.0  252.736842  93.966213  134.0  216.00  241.0  262.5  600.0"
      ]
     },
     "execution_count": 91,
     "metadata": {},
     "output_type": "execute_result"
    }
   ],
   "source": [
    "wrestlers_df=wrestlers_df[(wrestlers_df['Wins']>=min_win_threshold) & (wrestlers_df['Wins']<max_win_threshold)]\n",
    "wrestlers_df.describe().T"
   ]
  },
  {
   "cell_type": "code",
   "execution_count": 92,
   "id": "1a3d3a4a-cadd-4463-98b1-0d430d6715e8",
   "metadata": {},
   "outputs": [
    {
     "data": {
      "text/html": [
       "<div>\n",
       "<style scoped>\n",
       "    .dataframe tbody tr th:only-of-type {\n",
       "        vertical-align: middle;\n",
       "    }\n",
       "\n",
       "    .dataframe tbody tr th {\n",
       "        vertical-align: top;\n",
       "    }\n",
       "\n",
       "    .dataframe thead th {\n",
       "        text-align: right;\n",
       "    }\n",
       "</style>\n",
       "<table border=\"1\" class=\"dataframe\">\n",
       "  <thead>\n",
       "    <tr style=\"text-align: right;\">\n",
       "      <th></th>\n",
       "      <th>count</th>\n",
       "      <th>mean</th>\n",
       "      <th>std</th>\n",
       "      <th>min</th>\n",
       "      <th>25%</th>\n",
       "      <th>50%</th>\n",
       "      <th>75%</th>\n",
       "      <th>max</th>\n",
       "    </tr>\n",
       "  </thead>\n",
       "  <tbody>\n",
       "    <tr>\n",
       "      <th>Wins</th>\n",
       "      <td>17.0</td>\n",
       "      <td>18.882353</td>\n",
       "      <td>2.420804</td>\n",
       "      <td>15.0</td>\n",
       "      <td>17.0</td>\n",
       "      <td>19.0</td>\n",
       "      <td>21.0</td>\n",
       "      <td>22.0</td>\n",
       "    </tr>\n",
       "    <tr>\n",
       "      <th>Losses</th>\n",
       "      <td>17.0</td>\n",
       "      <td>12.294118</td>\n",
       "      <td>3.015889</td>\n",
       "      <td>8.0</td>\n",
       "      <td>10.0</td>\n",
       "      <td>12.0</td>\n",
       "      <td>14.0</td>\n",
       "      <td>20.0</td>\n",
       "    </tr>\n",
       "    <tr>\n",
       "      <th>Height</th>\n",
       "      <td>17.0</td>\n",
       "      <td>72.705882</td>\n",
       "      <td>2.756009</td>\n",
       "      <td>67.0</td>\n",
       "      <td>72.0</td>\n",
       "      <td>73.0</td>\n",
       "      <td>75.0</td>\n",
       "      <td>76.0</td>\n",
       "    </tr>\n",
       "    <tr>\n",
       "      <th>Weight</th>\n",
       "      <td>17.0</td>\n",
       "      <td>252.058824</td>\n",
       "      <td>98.608741</td>\n",
       "      <td>134.0</td>\n",
       "      <td>215.0</td>\n",
       "      <td>241.0</td>\n",
       "      <td>260.0</td>\n",
       "      <td>600.0</td>\n",
       "    </tr>\n",
       "  </tbody>\n",
       "</table>\n",
       "</div>"
      ],
      "text/plain": [
       "        count        mean        std    min    25%    50%    75%    max\n",
       "Wins     17.0   18.882353   2.420804   15.0   17.0   19.0   21.0   22.0\n",
       "Losses   17.0   12.294118   3.015889    8.0   10.0   12.0   14.0   20.0\n",
       "Height   17.0   72.705882   2.756009   67.0   72.0   73.0   75.0   76.0\n",
       "Weight   17.0  252.058824  98.608741  134.0  215.0  241.0  260.0  600.0"
      ]
     },
     "execution_count": 92,
     "metadata": {},
     "output_type": "execute_result"
    }
   ],
   "source": [
    "wrestlers_df['Losses'].quantile([0,0.25,0.5,0.95])\n",
    "min_loss_threshold=wrestlers_df['Losses'].quantile(0)\n",
    "max_loss_threshold=wrestlers_df['Losses'].quantile(0.95)\n",
    "wrestlers_df=wrestlers_df[(wrestlers_df['Losses']>=min_loss_threshold) & (wrestlers_df['Losses']<max_loss_threshold)]\n",
    "wrestlers_df.describe().T"
   ]
  },
  {
   "cell_type": "code",
   "execution_count": 102,
   "id": "e33644d0-ddbb-4017-8a41-6eb777d775cf",
   "metadata": {},
   "outputs": [
    {
     "data": {
      "text/html": [
       "<div>\n",
       "<style scoped>\n",
       "    .dataframe tbody tr th:only-of-type {\n",
       "        vertical-align: middle;\n",
       "    }\n",
       "\n",
       "    .dataframe tbody tr th {\n",
       "        vertical-align: top;\n",
       "    }\n",
       "\n",
       "    .dataframe thead th {\n",
       "        text-align: right;\n",
       "    }\n",
       "</style>\n",
       "<table border=\"1\" class=\"dataframe\">\n",
       "  <thead>\n",
       "    <tr style=\"text-align: right;\">\n",
       "      <th></th>\n",
       "      <th>Name</th>\n",
       "      <th>Wins</th>\n",
       "      <th>Losses</th>\n",
       "      <th>Height</th>\n",
       "      <th>Weight</th>\n",
       "    </tr>\n",
       "  </thead>\n",
       "  <tbody>\n",
       "    <tr>\n",
       "      <th>2</th>\n",
       "      <td>Stone Cold</td>\n",
       "      <td>20.0</td>\n",
       "      <td>15.0</td>\n",
       "      <td>74.0</td>\n",
       "      <td>252</td>\n",
       "    </tr>\n",
       "    <tr>\n",
       "      <th>3</th>\n",
       "      <td>Triple H</td>\n",
       "      <td>15.0</td>\n",
       "      <td>20.0</td>\n",
       "      <td>76.0</td>\n",
       "      <td>255</td>\n",
       "    </tr>\n",
       "    <tr>\n",
       "      <th>6</th>\n",
       "      <td>Brock Lesnar</td>\n",
       "      <td>18.0</td>\n",
       "      <td>10.0</td>\n",
       "      <td>76.0</td>\n",
       "      <td>286</td>\n",
       "    </tr>\n",
       "    <tr>\n",
       "      <th>7</th>\n",
       "      <td>Kurt Angle</td>\n",
       "      <td>22.0</td>\n",
       "      <td>8.0</td>\n",
       "      <td>72.0</td>\n",
       "      <td>600</td>\n",
       "    </tr>\n",
       "    <tr>\n",
       "      <th>8</th>\n",
       "      <td>Randy Orton</td>\n",
       "      <td>20.0</td>\n",
       "      <td>12.0</td>\n",
       "      <td>75.0</td>\n",
       "      <td>245</td>\n",
       "    </tr>\n",
       "    <tr>\n",
       "      <th>9</th>\n",
       "      <td>Edge</td>\n",
       "      <td>16.0</td>\n",
       "      <td>14.0</td>\n",
       "      <td>74.0</td>\n",
       "      <td>241</td>\n",
       "    </tr>\n",
       "    <tr>\n",
       "      <th>11</th>\n",
       "      <td>Daniel Bryan</td>\n",
       "      <td>19.0</td>\n",
       "      <td>11.0</td>\n",
       "      <td>69.0</td>\n",
       "      <td>210</td>\n",
       "    </tr>\n",
       "    <tr>\n",
       "      <th>12</th>\n",
       "      <td>Seth Rollins</td>\n",
       "      <td>21.0</td>\n",
       "      <td>13.0</td>\n",
       "      <td>72.0</td>\n",
       "      <td>217</td>\n",
       "    </tr>\n",
       "    <tr>\n",
       "      <th>16</th>\n",
       "      <td>Kevin Owens</td>\n",
       "      <td>16.0</td>\n",
       "      <td>12.0</td>\n",
       "      <td>72.0</td>\n",
       "      <td>265</td>\n",
       "    </tr>\n",
       "    <tr>\n",
       "      <th>17</th>\n",
       "      <td>Sami Zayn</td>\n",
       "      <td>15.0</td>\n",
       "      <td>14.0</td>\n",
       "      <td>71.0</td>\n",
       "      <td>210</td>\n",
       "    </tr>\n",
       "    <tr>\n",
       "      <th>18</th>\n",
       "      <td>Charlotte Flair</td>\n",
       "      <td>18.0</td>\n",
       "      <td>10.0</td>\n",
       "      <td>67.0</td>\n",
       "      <td>145</td>\n",
       "    </tr>\n",
       "    <tr>\n",
       "      <th>19</th>\n",
       "      <td>Sasha Banks</td>\n",
       "      <td>22.0</td>\n",
       "      <td>8.0</td>\n",
       "      <td>68.0</td>\n",
       "      <td>134</td>\n",
       "    </tr>\n",
       "    <tr>\n",
       "      <th>20</th>\n",
       "      <td>Bayley</td>\n",
       "      <td>20.0</td>\n",
       "      <td>11.0</td>\n",
       "      <td>74.0</td>\n",
       "      <td>260</td>\n",
       "    </tr>\n",
       "    <tr>\n",
       "      <th>21</th>\n",
       "      <td>Drew McIntyre</td>\n",
       "      <td>17.0</td>\n",
       "      <td>13.0</td>\n",
       "      <td>76.0</td>\n",
       "      <td>240</td>\n",
       "    </tr>\n",
       "    <tr>\n",
       "      <th>22</th>\n",
       "      <td>Sheamus</td>\n",
       "      <td>19.0</td>\n",
       "      <td>15.0</td>\n",
       "      <td>72.0</td>\n",
       "      <td>280</td>\n",
       "    </tr>\n",
       "    <tr>\n",
       "      <th>23</th>\n",
       "      <td>Jeff Hardy</td>\n",
       "      <td>21.0</td>\n",
       "      <td>14.0</td>\n",
       "      <td>73.0</td>\n",
       "      <td>230</td>\n",
       "    </tr>\n",
       "    <tr>\n",
       "      <th>24</th>\n",
       "      <td>Matt Hardy</td>\n",
       "      <td>22.0</td>\n",
       "      <td>9.0</td>\n",
       "      <td>75.0</td>\n",
       "      <td>215</td>\n",
       "    </tr>\n",
       "  </tbody>\n",
       "</table>\n",
       "</div>"
      ],
      "text/plain": [
       "               Name  Wins  Losses  Height  Weight\n",
       "2        Stone Cold  20.0    15.0    74.0     252\n",
       "3          Triple H  15.0    20.0    76.0     255\n",
       "6      Brock Lesnar  18.0    10.0    76.0     286\n",
       "7        Kurt Angle  22.0     8.0    72.0     600\n",
       "8       Randy Orton  20.0    12.0    75.0     245\n",
       "9              Edge  16.0    14.0    74.0     241\n",
       "11     Daniel Bryan  19.0    11.0    69.0     210\n",
       "12     Seth Rollins  21.0    13.0    72.0     217\n",
       "16      Kevin Owens  16.0    12.0    72.0     265\n",
       "17        Sami Zayn  15.0    14.0    71.0     210\n",
       "18  Charlotte Flair  18.0    10.0    67.0     145\n",
       "19      Sasha Banks  22.0     8.0    68.0     134\n",
       "20           Bayley  20.0    11.0    74.0     260\n",
       "21    Drew McIntyre  17.0    13.0    76.0     240\n",
       "22          Sheamus  19.0    15.0    72.0     280\n",
       "23       Jeff Hardy  21.0    14.0    73.0     230\n",
       "24       Matt Hardy  22.0     9.0    75.0     215"
      ]
     },
     "execution_count": 102,
     "metadata": {},
     "output_type": "execute_result"
    }
   ],
   "source": [
    "wrestlers_df"
   ]
  },
  {
   "cell_type": "code",
   "execution_count": 104,
   "id": "150a6aa5-5019-4289-9912-e75202767042",
   "metadata": {},
   "outputs": [
    {
     "data": {
      "text/plain": [
       "<Axes: >"
      ]
     },
     "execution_count": 104,
     "metadata": {},
     "output_type": "execute_result"
    },
    {
     "data": {
      "image/png": "[encoded data removed]",
      "text/plain": [
       "<Figure size 640x480 with 2 Axes>"
      ]
     },
     "metadata": {},
     "output_type": "display_data"
    }
   ],
   "source": [
    "sns.heatmap(wrestlers_df.corr(numeric_only=True))"
   ]
  },
  {
   "cell_type": "code",
   "execution_count": 106,
   "id": "d93280c6-58ea-4e07-af80-2dd05dc49c3c",
   "metadata": {},
   "outputs": [
    {
     "data": {
      "text/html": [
       "<div>\n",
       "<style scoped>\n",
       "    .dataframe tbody tr th:only-of-type {\n",
       "        vertical-align: middle;\n",
       "    }\n",
       "\n",
       "    .dataframe tbody tr th {\n",
       "        vertical-align: top;\n",
       "    }\n",
       "\n",
       "    .dataframe thead th {\n",
       "        text-align: right;\n",
       "    }\n",
       "</style>\n",
       "<table border=\"1\" class=\"dataframe\">\n",
       "  <thead>\n",
       "    <tr style=\"text-align: right;\">\n",
       "      <th></th>\n",
       "      <th>Wins</th>\n",
       "      <th>Losses</th>\n",
       "      <th>Height</th>\n",
       "      <th>Weight</th>\n",
       "    </tr>\n",
       "  </thead>\n",
       "  <tbody>\n",
       "    <tr>\n",
       "      <th>Wins</th>\n",
       "      <td>1.000000</td>\n",
       "      <td>-0.585647</td>\n",
       "      <td>-0.164764</td>\n",
       "      <td>0.186709</td>\n",
       "    </tr>\n",
       "    <tr>\n",
       "      <th>Losses</th>\n",
       "      <td>-0.585647</td>\n",
       "      <td>1.000000</td>\n",
       "      <td>0.394548</td>\n",
       "      <td>-0.150956</td>\n",
       "    </tr>\n",
       "    <tr>\n",
       "      <th>Height</th>\n",
       "      <td>-0.164764</td>\n",
       "      <td>0.394548</td>\n",
       "      <td>1.000000</td>\n",
       "      <td>0.256262</td>\n",
       "    </tr>\n",
       "    <tr>\n",
       "      <th>Weight</th>\n",
       "      <td>0.186709</td>\n",
       "      <td>-0.150956</td>\n",
       "      <td>0.256262</td>\n",
       "      <td>1.000000</td>\n",
       "    </tr>\n",
       "  </tbody>\n",
       "</table>\n",
       "</div>"
      ],
      "text/plain": [
       "            Wins    Losses    Height    Weight\n",
       "Wins    1.000000 -0.585647 -0.164764  0.186709\n",
       "Losses -0.585647  1.000000  0.394548 -0.150956\n",
       "Height -0.164764  0.394548  1.000000  0.256262\n",
       "Weight  0.186709 -0.150956  0.256262  1.000000"
      ]
     },
     "execution_count": 106,
     "metadata": {},
     "output_type": "execute_result"
    }
   ],
   "source": [
    "wrestlers_df.corr(numeric_only=True)"
   ]
  },
  {
   "cell_type": "code",
   "execution_count": 112,
   "id": "d9d7155f-ccce-48ec-9c51-ddc6ee6ba31e",
   "metadata": {},
   "outputs": [
    {
     "data": {
      "text/plain": [
       "<matplotlib.collections.PathCollection at 0x2ba045a7ad0>"
      ]
     },
     "execution_count": 112,
     "metadata": {},
     "output_type": "execute_result"
    },
    {
     "data": {
      "image/png": "[encoded data removed]",
      "text/plain": [
       "<Figure size 640x480 with 1 Axes>"
      ]
     },
     "metadata": {},
     "output_type": "display_data"
    }
   ],
   "source": [
    "plt.scatter(x=wrestlers_df['Wins'],y=wrestlers_df['Weight'])"
   ]
  },
  {
   "cell_type": "code",
   "execution_count": 110,
   "id": "42e32888-925a-4f33-8086-27d85efcfe69",
   "metadata": {},
   "outputs": [
    {
     "data": {
      "text/html": [
       "<div>\n",
       "<style scoped>\n",
       "    .dataframe tbody tr th:only-of-type {\n",
       "        vertical-align: middle;\n",
       "    }\n",
       "\n",
       "    .dataframe tbody tr th {\n",
       "        vertical-align: top;\n",
       "    }\n",
       "\n",
       "    .dataframe thead th {\n",
       "        text-align: right;\n",
       "    }\n",
       "</style>\n",
       "<table border=\"1\" class=\"dataframe\">\n",
       "  <thead>\n",
       "    <tr style=\"text-align: right;\">\n",
       "      <th></th>\n",
       "      <th>count</th>\n",
       "      <th>mean</th>\n",
       "      <th>std</th>\n",
       "      <th>min</th>\n",
       "      <th>25%</th>\n",
       "      <th>50%</th>\n",
       "      <th>75%</th>\n",
       "      <th>max</th>\n",
       "    </tr>\n",
       "  </thead>\n",
       "  <tbody>\n",
       "    <tr>\n",
       "      <th>Wins</th>\n",
       "      <td>17.0</td>\n",
       "      <td>18.882353</td>\n",
       "      <td>2.420804</td>\n",
       "      <td>15.0</td>\n",
       "      <td>17.0</td>\n",
       "      <td>19.0</td>\n",
       "      <td>21.0</td>\n",
       "      <td>22.0</td>\n",
       "    </tr>\n",
       "    <tr>\n",
       "      <th>Losses</th>\n",
       "      <td>17.0</td>\n",
       "      <td>12.294118</td>\n",
       "      <td>3.015889</td>\n",
       "      <td>8.0</td>\n",
       "      <td>10.0</td>\n",
       "      <td>12.0</td>\n",
       "      <td>14.0</td>\n",
       "      <td>20.0</td>\n",
       "    </tr>\n",
       "    <tr>\n",
       "      <th>Height</th>\n",
       "      <td>17.0</td>\n",
       "      <td>72.705882</td>\n",
       "      <td>2.756009</td>\n",
       "      <td>67.0</td>\n",
       "      <td>72.0</td>\n",
       "      <td>73.0</td>\n",
       "      <td>75.0</td>\n",
       "      <td>76.0</td>\n",
       "    </tr>\n",
       "    <tr>\n",
       "      <th>Weight</th>\n",
       "      <td>17.0</td>\n",
       "      <td>252.058824</td>\n",
       "      <td>98.608741</td>\n",
       "      <td>134.0</td>\n",
       "      <td>215.0</td>\n",
       "      <td>241.0</td>\n",
       "      <td>260.0</td>\n",
       "      <td>600.0</td>\n",
       "    </tr>\n",
       "  </tbody>\n",
       "</table>\n",
       "</div>"
      ],
      "text/plain": [
       "        count        mean        std    min    25%    50%    75%    max\n",
       "Wins     17.0   18.882353   2.420804   15.0   17.0   19.0   21.0   22.0\n",
       "Losses   17.0   12.294118   3.015889    8.0   10.0   12.0   14.0   20.0\n",
       "Height   17.0   72.705882   2.756009   67.0   72.0   73.0   75.0   76.0\n",
       "Weight   17.0  252.058824  98.608741  134.0  215.0  241.0  260.0  600.0"
      ]
     },
     "execution_count": 110,
     "metadata": {},
     "output_type": "execute_result"
    }
   ],
   "source": [
    "wrestlers_df.describe().T"
   ]
  }
 ],
 "metadata": {
  "kernelspec": {
   "display_name": "Python 3 (ipykernel)",
   "language": "python",
   "name": "python3"
  },
  "language_info": {
   "codemirror_mode": {
    "name": "ipython",
    "version": 3
   },
   "file_extension": ".py",
   "mimetype": "text/x-python",
   "name": "python",
   "nbconvert_exporter": "python",
   "pygments_lexer": "ipython3",
   "version": "3.12.7"
  }
 },
 "nbformat": 4,
 "nbformat_minor": 5
}
